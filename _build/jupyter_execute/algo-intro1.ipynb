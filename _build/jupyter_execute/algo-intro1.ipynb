{
 "cells": [
  {
   "cell_type": "markdown",
   "id": "62849ebc-b049-4a9d-8573-b8df806b0ec8",
   "metadata": {},
   "source": [
    "# Начало тренировок\n",
    "\n",
    "Для начала давайте разберем [тренировочный турнир](https://imcs.dvfu.ru/cats/problems?cid=6851588;sid=) от CODE work.\n",
    "\n",
    "## Задача \"Поиск в массиве\"\n",
    "\n",
    "Дана последовательность $a_1, a_2, \\ldots, a_n$, для которой выполнено $a_i \\leq a_{i+1}$ для любого $i=1..n-1$. Для каждого элемента последовательности $b_1, b_2, \\ldots, b_m$ определить, присутствует ли он в последовательности $\\{a_i\\}$.\n",
    "\n",
    "### Наивный алгоритм"
   ]
  },
  {
   "cell_type": "code",
   "execution_count": 1,
   "id": "eac2c9d3-2a27-474d-a68a-e5a47e56f996",
   "metadata": {},
   "outputs": [],
   "source": [
    "# Находит число x в упорядоченном списке a\n",
    "def find_in_sorted_container(a, x):\n",
    "    return x in a"
   ]
  },
  {
   "cell_type": "markdown",
   "id": "eaffa462-1178-4da3-8d5c-2e2bede8c0de",
   "metadata": {},
   "source": [
    "Ввод-вывод:"
   ]
  },
  {
   "cell_type": "markdown",
   "id": "47b03106-bf4a-4509-9b86-b8b04117c7e0",
   "metadata": {},
   "source": [
    "```python\n",
    "with open('input.txt', 'r') as fin:\n",
    "    n, m = map(int, fin.readline().split())\n",
    "    a = list(map(int, fin.readline().split()))\n",
    "    b = list(map(int, fin.readline().split()))\n",
    "\n",
    "with open('output.txt', 'w') as fout:\n",
    "    for x in b:\n",
    "        if find_in_sorted_container(a, x):\n",
    "            print(\"YES\", file=fout)\n",
    "        else:\n",
    "            print(\"NO\", file=fout)\n",
    "```"
   ]
  },
  {
   "cell_type": "markdown",
   "id": "d60cce32-11e5-49dc-a518-3462dd99905c",
   "metadata": {},
   "source": [
    "Если отправить приведенное выше решение в тестирующую систему, то получится результат \"Превышено время выполнения программы\". Почему так происходит? В условии задачи сказано, что $n, m \\leq 10^5$. Таким образом, цикл `for x in b` выполнится $m$ раз. Но функция `find_in_sorted_container`, несмотря на отсутствие явных циклов, потребует порядка $n$ обращений к элементам контейнера `a`. Следовательно, сложность наивного алгоритма составила $O(nm)$ операций.\n",
    "\n",
    "Эта запись означает, что с ростом $n, m$ время выполнения вашей программы будет увеличиваться не сильнее, чем пропорционально $nm$. То есть, если 5 раз увеличить $n$ и $m$ в 10 раз, то оценка времени выполнения программы $O(nm)$ возрастет в $10^{10}$ раз - а это уже довольно много (для справки: одна секунда - это порядка $10^8$ - $10^9$ простейших операций).\n",
    "\n",
    "### Решение с помощью структуры данных\n",
    "\n",
    "Обратим внимание, как мы храним элементы массива `a`. В условии задачи сказано, что массив упорядочен по возрастанию, но мы никак этим не воспользовались. Вместо этого мы воспользовались операцией `in`, которая просматривает весь массив от начала до конца в поисках искомого числа.\n",
    "\n",
    "Помимо массива, существуют другие способы организации хранения данных. Они различаются набором операций, выполняемых над множеством значений. В нашем случае нам нужна одна операция -- это поиск. Так что нам подойдет любая структура данных, обеспечивающая поиск в числовом множестве. Например, хеш-таблица. В языке Python такая структура данных уже реализована в стандартном контейнере `set`.\n",
    "\n",
    "Давайте приведем наш список `a` к множеству `a_set` при помощи встроенной функции `set()`. А затем станем работать с этим новым контейнером."
   ]
  },
  {
   "cell_type": "markdown",
   "id": "a40d1498-594d-4786-91b1-14294c6158d3",
   "metadata": {},
   "source": [
    "```python\n",
    "a_set = set(a)\n",
    "# ...\n",
    "    for x in b:\n",
    "        if find_in_sorted_container(a_set, x):\n",
    "# ...\n",
    "```"
   ]
  },
  {
   "cell_type": "markdown",
   "id": "995083b2-0949-43c5-bfe3-f455bd4eed4f",
   "metadata": {},
   "source": [
    "Теперь наше решение принято в тестирующую систему. Однако с целью тренировки в программировании алгоритмов разберем ещё один способ.\n",
    "\n",
    "### Двоичный поиск\n",
    "\n",
    "Двоичный поиск - это самый эффективный алгоритм нахождения индекса заданного элемента в упорядоченном массиве. Алгоритм описан у [Кормена](https://yadi.sk/i/OgI3Y9bf5_NhAA). \n",
    "\n",
    "Идея алгоритма проста. Чтобы найти заданное число $x$ в последовательности $\\{a_i\\}$, которая представлена как массив (так что в ней быстро реализована операция доступа к элементу по его индексу), разобьем весь массив на два подмассива (почти) равной длины: $a[1..k]$ и $a[k+1..n]$. Элемент $a[k]$ будет *опорным*. Полагаем $k = \\lfloor(l + r)/2\\rfloor$, чтобы в худшем случае отбросить половину массива и уменьшить пространство поиска в 2 раза.\n",
    "\n",
    "Справедливы утверждения:\n",
    "* $x < a[k] \\to \\left(\\forall i \\in k+1..n \\colon x < a[i] \\right)$, то есть если $x$ меньше опорного элемента, то $x$ меньше любого элемента из правой половины массива;\n",
    "* $x > a[k] \\to \\left(\\forall i \\in 1..k-1 \\colon x > a[i] \\right)$, то есть если $x$ больше опорного элемента, то $x$ больше любого элемента из левой половины массива.\n",
    "\n",
    "Получаем алгоритм:\n",
    "\n",
    "1. Если $x = a[k]$, то искомый элемент найден.\n",
    "2. Если $x < a[k]$, то сводим задачу поиска в массиве $a[1..n]$ к задаче поиска в подмассиве $a[1..k-1]$.\n",
    "3. Если $x > a[k]$, то сводим задачу поиска в массиве $a[1..n]$ к задаче поиска в подмассиве $a[k+1..n]$.\n",
    "\n",
    "```{note}\n",
    "При реализации данного алгоритма важно перед доступом к опорному элементу проверить, что подмассив непуст!\n",
    "```\n",
    "\n",
    "Время выполнения алгоритма составит $O(\\log n)$, что гораздо быстрее, чем полный перебор, который требует $O(n)$ операций.\n",
    "\n",
    "Вариант рекурсивной реализации:\n",
    "\n",
    "```python\n",
    "def binary_search(a, x, l, r):\n",
    "    if l > r:  # подмассив a[l..r] пуст?\n",
    "        return False\n",
    "    k = (l + r) // 2  # индекс опорного элемента\n",
    "    if x == a[k]:\n",
    "        return True\n",
    "    elif x < a[k]:\n",
    "        # ...\n",
    "    else:  # x > a[k]\n",
    "        # ...\n",
    "        \n",
    "def find_in_sorted_container(a, x):\n",
    "    return binary_search(a, x, 0, n-1)\n",
    "```\n",
    "\n",
    "\n",
    "Вариант итеративной реализации:\n",
    "\n",
    "```python\n",
    "l = 0\n",
    "r = n - 1\n",
    "ans = False\n",
    "while l <= r:\n",
    "    # ищем число x в подмассиве a[l..r]\n",
    "    k = (l + r) // 2\n",
    "    if x == a[k]:\n",
    "        ans = True\n",
    "        break\n",
    "    elif x < a[k]:\n",
    "        # изменить l, r - свести задачу к другой\n",
    "    else  # x > a[k]\n",
    "        # изменить l, r - свести задачу к другой\n",
    "# ans == True, если число x есть в массиве a[0..n-1]\n",
    "```\n",
    "\n"
   ]
  },
  {
   "cell_type": "markdown",
   "id": "1fda0fed-494e-47f3-b934-a3754657aca0",
   "metadata": {},
   "source": [
    "## Задача \"Ближайшее число\"\n",
    "\n",
    "Дана последовательность чисел $a_1, a_2, \\ldots, a_N$. Для каждого элемента этой последовательности найти ближайшее к нему справа в этой последовательности, которое будет больше него, либо определить, что такого числа не существует.\n",
    "\n",
    "Например, для последовательности $1, 2, 4, 3, 3, 5, 4, 7$ ответ будет таким: $2, 4, 5, 5, 5, 7, 7, 7$ (для последнего числа искомого числа справа нет).\n",
    "\n",
    "Изобразим этот пример на диаграмме. Для каждого столбика требуется найти ближайший к нему столбик справа, не ниже его."
   ]
  },
  {
   "cell_type": "code",
   "execution_count": 2,
   "id": "ce949ca7-077b-439e-9686-30a54d7d5457",
   "metadata": {},
   "outputs": [
    {
     "data": {
      "image/png": "[encoded data removed]",
      "text/plain": [
       "<Figure size 640x480 with 1 Axes>"
      ]
     },
     "metadata": {},
     "output_type": "display_data"
    }
   ],
   "source": [
    "import matplotlib.pyplot as plt\n",
    "data = [1, 2, 4, 3, 3, 5, 4, 7]\n",
    "b = plt.bar([i for i in range(1, 9)], data)\n",
    "plt.bar_label(b, labels=data)\n",
    "plt.show()"
   ]
  },
  {
   "cell_type": "markdown",
   "id": "4f54ffa8-09c6-41db-800d-679c9267cde9",
   "metadata": {},
   "source": [
    "### Эффективное решение\n",
    "\n",
    "Алгоритм описан у [Луридаса](https://yadi.sk/i/J0mS63RpEhH8tw) (с. 19). \n",
    "\n",
    "Будем при чтении массива справа налево поддерживать структуру данных \"стек\", которая будет содержать возрастающую последовательность высот столбиков. Очередное число выталкивает из стека все столбики не выше него. Ответ для текущего числа - это высота столбика на вершине стека. Затем новое число добавляется в стек.\n",
    "\n",
    "Поскольку каждое число однажды добавляется в стек и однажды удаляется из стека, то сложность алгоритма $O(n)$.\n",
    "\n",
    "### Стек\n",
    "\n",
    "*Стек* - это структура данных типа \"последовательность\", добавление и удаление элементов из которой производится с конца. В качестве реализации стека подойдет обычный динамический массив. Например, в Python это список с операциями `append` и `pop`.\n"
   ]
  },
  {
   "cell_type": "markdown",
   "id": "537b2ddf-d1d1-4468-9f5f-4dae3b30f88b",
   "metadata": {},
   "source": [
    "## Задача \"Дифтонги\"\n",
    "\n",
    "Дан набор строк, состоящих из строчных гласных и согласных латинских букв. Найти все слова с максимальным количеством дифтонгов. Дифтонг - это пара гласных букв, окруженных либо согласными буквами, либо границами слова.\n",
    "\n",
    "Решение состоит из двух этапов.\n",
    "\n",
    "1. Для каждого $i$-го слова вычислим число дифтонгов $d_i$.\n",
    "2. Выведем все $i$-е слова, для которых $d_i$ максимально.\n",
    "\n",
    "### Количество дифтонгов\n",
    "\n",
    "Пусть $n$ - число букв в слове. Добавим слева и справа к слову любую согласную. Тогда буквы слова будут иметь индексы $1..n$.\n",
    "\n",
    "Запишем условие $P(i)$, что $s[i..i+1]$, где $i \\in 1..n-1$, - дифтонг.\n",
    "\n",
    "$\n",
    "P(i) = s[i]\\text{ - гласная} \\,\\&\\, s[i+1]\\text{ - гласная} \\,\\&\\, s[i-1]\\text{ - согласная} \\,\\&\\, s[i+2]\\text{ - согласная}\n",
    "$\n",
    "\n",
    "### Конечный автомат\n",
    "\n",
    "Представим себе машину Тьюринга, которая движется только вправо, читая слово, и периодически оказывается в состоянии, переход в которое означает, что найден очередной дифтонг. В такие моменты необходимо увеличить счетчик дифтонгов.\n",
    "\n",
    "*Упражнение.* Составьте таблицу переходов для автомата, распознающего дифтонги.\n",
    "\n",
    "### Поиск максимумов\n",
    "\n",
    "Простейший алгоритм - двупроходный. Первым проходом по массиву $d_i$ находим максимум $d_i$. Вторым проходом выводим все $i$-е слова, соответствующие максимумам $d_i$.\n"
   ]
  },
  {
   "cell_type": "markdown",
   "id": "84ad6328-130a-46f8-bbf2-71e6676a32a0",
   "metadata": {},
   "source": [
    "## Задача “Максимум в скользящем окне”\n",
    "\n",
    "Дан список из $n$ целых чисел. По этому списку перемещаются два указателя: $l$ и $r$. Изначально они оба указывают на начало списка. За один раз оба указателя могут перемещаться только вправо на одну позицию. Требуется определить для каждого перемещения указателей наибольший элемент среди $a[l], a[l+1], \\ldots, a[r]$.\n",
    "\n",
    "Обратим внимание, что наивное решение (нахождение максимума с просмотром каждый раз заново всех элементов списка от $l$-го до $r$-го) займет порядка $O(n^2)$ времени. Целью оптимизации является структурирование данных таким образом, чтобы при сдвиге указателей обновление максимума происходило очень быстро.\n",
    "\n",
    "### Быстрое обновление максимума\n",
    "\n",
    "Пусть $m$ – индекс самого левого максимума среди чисел $a[l], a[l+1], \\ldots, a[r]$, так что $\\forall i \\in l..r\\colon a[m] \\geq a[i]$.\n",
    "\n",
    "При сдвиге указателя $r$ на единицу вправо максимум обновляется легко: если $a[r+1] > a[m]$, то $m \\leftarrow r + 1$, иначе $m$ остается прежним.\n",
    "\n",
    "Разберемся, как обновить максимум при сдвиге указателя $l$ на единицу вправо. Возможны случаи:\n",
    "\n",
    "1. $m > l$. Тогда $m$ остается прежним.\n",
    "\n",
    "2. $m = l$. Это значит, что после $l$ последовательность $a[l], a[l+1], \\ldots$ сначала не возрастает, а потом, возможно, начинает возрастать. Начнем с индекса $k = l + 1$ и будем итерационно переходить к новому значению $k \\leftarrow {\\rm nearest}[k]$. Здесь ${\\rm nearest}[k]$ -- индекс ближайшего справа числа к $k$-му, большего либо равного ему. \n",
    "Если $\\mathrm{nearest}[k] > r$, то это значит, что все числа от $k + 1$-го до $r$-го меньше, чем $k$-е число:\n",
    "\n",
    "$\n",
    "(\\mathrm{nearest}[k] > r) \\to \\forall i \\in k+1..r \\colon a[i] < a[k].\n",
    "$\n",
    "\n",
    "Справедливо утверждение: после выполнения следующего цикла переменная $k$ будет указывать на максимум $a[i]$ на промежутке $i \\in l+1..r$.\n",
    "```python\n",
    "k = l + 1\n",
    "while nearest[k] <= r:\n",
    "    k = nearest[k]\n",
    "```\n",
    "\n",
    "Для вычисления функции $\\mathrm{nearest}[k]$ потребуется решить задачу \"Ближайшее число\" (см. выше).\n"
   ]
  },
  {
   "cell_type": "markdown",
   "id": "361a3d08-5b68-460d-badd-3c6850df895d",
   "metadata": {},
   "source": [
    "## Задача \"Жадная последовательность\"\n",
    "\n",
    "Дан список целых чисел $a_1, a_2, \\ldots, a_N$. Над этим списком $M$ раз производится следующая операция: выбираются два наименьших числа, они удаляются из списка, после чего их сумма приписывается в конец списка. Требуется вывести содержимое списка после выполнения всех операций.\n",
    "\n",
    "Заметим, что вместе с множеством значений нужно хранить и порядок их следования. Поэтому обычной [кучи](https://docs.python.org/3/library/heapq.html) из чисел будет недостаточно. Будем хранить кучу из кортежей длины 2. Первым элементом кортежа будет значение, а вторым будет индекс этого значения в списке. Похожая идея изложена [здесь](https://stackoverflow.com/questions/8875706/heapq-with-custom-compare-predicate).\n",
    "\n",
    "Таким образом, за одну операцию мы будем извлекать два элемента из нашей кучи и добавлять в кучу их сумму вместе с ее индексом в списке.\n",
    "\n",
    "Чтобы вывести результат после выполнения $M$ операций, перевернем каждый элемент списка кортежей (индекс встанет на первое место, а значение на второе) и упорядочим список кортежей по возрастанию.\n",
    "\n",
    "```python\n",
    "import heapq\n",
    "\n",
    "with open('input.txt', 'r') as fin:\n",
    "    n, m = map(int, fin.readline().split())\n",
    "    a = list(map(int, fin.read().split()))\n",
    "\n",
    "list = [(item, i) for i, item in enumerate(a)]\n",
    "heapq.heapify(list)\n",
    "\n",
    "for i in range(m):\n",
    "    p, _ = heapq.heappop(list)\n",
    "    q, _ = heapq.heappop(list)\n",
    "    heapq.heappush(list, (p + q, n + i))\n",
    "\n",
    "print(list)\n",
    "\n",
    "for i in range(n - m):\n",
    "    u, v = list[i]\n",
    "    list[i] = (v, u)\n",
    "\n",
    "list = sorted(list)\n",
    "\n",
    "with open('output.txt', 'w') as fout:\n",
    "    for _, item in list:\n",
    "        print(item, ' ', end='', sep='', file=fout)\n",
    "```"
   ]
  }
 ],
 "metadata": {
  "kernelspec": {
   "display_name": "Python 3 (ipykernel)",
   "language": "python",
   "name": "python3"
  },
  "language_info": {
   "codemirror_mode": {
    "name": "ipython",
    "version": 3
   },
   "file_extension": ".py",
   "mimetype": "text/x-python",
   "name": "python",
   "nbconvert_exporter": "python",
   "pygments_lexer": "ipython3",
   "version": "3.10.12"
  }
 },
 "nbformat": 4,
 "nbformat_minor": 5
}