{
 "cells": [
  {
   "cell_type": "markdown",
   "id": "64d12507-d3e6-4074-9bca-44d32f97fa23",
   "metadata": {},
   "source": [
    "# Линейные пространства и линейные отображения\n",
    "\n",
    "*Линейное пространство* - это просто набор векторов (с некоторыми свойствами). Плоские векторы и пространственные векторы, с которыми вы, возможно, знакомы из школьной математики, являются примерами векторов. Здесь мы узнаем, что такие функции, как многочлены и тригонометрические функции, также являются векторами. Расширяя это рассмотрение, звуки можно рассматривать как векторы. Используя Python, мы можем видеть или слышать эти различные векторы. {cite}`linalgpy`\n",
    "\n",
    "В этой главе мы будем использовать абстрактные аргументы (абстрактные линейные пространства). Вы можете подумать, что абстрактные рассуждения утомительны и скучноваты, но это самый важный метод в науке, позволяющий рассматривать, казалось бы, разные объекты единым образом и позволяющий достичь хорошего понимания. Прогресс покажется намного проще, если вы освоитесь с этим процессом получения результатов с помощью строгих пошаговых аргументов, начиная с нескольких абстрактных понятий.\n",
    "\n",
    "## Линейные пространства\n",
    "\n",
    "На протяжении всей этой книги $K$ обозначает либо множество $\\mathbb R$ всех действительных чисел, либо множество $\\mathbb C$ всех комплексных чисел. $K$ называется *скалярным полем*, а его элемент называется скаляром.\n",
    "\n",
    "Множество $V$ называется линейным пространством или векторным пространством над $K$ (элемент $V$ называется вектором), если оно удовлетворяет следующим пяти условиям.\n",
    "\n",
    "1. Для любых векторов $x$ и $y$ определена их векторная сумма $x + y \\in V$ (то есть $V$ замкнуто при векторном суммировании).\n",
    "2. Для любого вектора $x$ и любого скаляра $a$ определено умножение на скаляр $ax \\in V$ (то есть $V$ замкнуто при умножении на скаляр).\n",
    "3. В $V$ определен специальный вектор $0$, называемый нулевым вектором (существование нуля).\n",
    "4. Для любого вектора $x$ определен вектор $−x \\in V$, называемый его обратным вектором (существование обратного).\n",
    "\n",
    "Чтобы избежать путаницы между скалярами и векторами, для векторов используется жирный шрифт.\n",
    "\n",
    "$+$ - это бинарная операция, отображение из $V \\times V$ в $V$. Важно, что $x + y$ определяется в пределах $V$.\n",
    "\n",
    "Для векторной суммы, умножения на скаляр, нулевого вектора и обратного вектора, определенных выше, выполняется следующий набор условий, называемых аксиомами линейного пространства:\n",
    "\n",
    "(a) $x + y = y + x$ \n",
    "\n",
    "(b) $(x + y) + z = x + ( y + z)$\n",
    "\n",
    "(c) $x + 0 = x$\n",
    "\n",
    "(d) $x + (−x) = 0$\n",
    "\n",
    "(e) $a (x + y) = ax + a y $\n",
    "\n",
    "(f) $(a + b) x = ax + bx$\n",
    "\n",
    "(g) $(ab) x = a (bx) $\n",
    "\n",
    "(h) $1x = x$\n",
    "\n",
    "Здесь мы отличаем скаляр $0 \\in K$ от вектора $0 \\in V$, в то время как $1 \\in K$ является скаляром.\n",
    "\n",
    "Линейное пространство над $\\mathbb R$ иногда называют *вещественным линейным пространством*, где вектор может быть умножен только на действительное число. \n",
    "\n",
    "Линейное пространство над $\\mathbb C$ называется *комплексным линейным пространством*, и допускается умножение на комплексное число. \n",
    "\n",
    "В частности, $\\mathbb R$ само по себе является вещественным линейным пространством, а $\\mathbb C$ - комплексным линейным пространством. $\\mathbb C$ также является вещественным линейным пространством, если рассматривать комплексное число как вектор, действительное число как скаляр и умножение комплексное числа на действительное число \n",
    "как скалярное кратное. Здесь скаляр $0$ и вектор $0$ совпадают. \n",
    "\n",
    "С другой стороны, $\\mathbb R$ не является комплексным линейным пространством, даже если мы рассматриваем комплексное число как скаляр, а умножение действительного числа на комплексное число как умножение на скаляр.\n",
    "\n",
    "В Python мы можем выражать векторы кортежами или списками, но он не поддерживает векторные операции. \n",
    "\n",
    "Используя NumPy, мы можем манипулировать векторными суммами и скалярными кратными как обычными математическими формулами. Вместе с библиотекой Matplotlib давайте проверим $x + y = y + x$ визуально на плоскости.\n",
    "\n",
    "Программа: `vec2d.py`"
   ]
  },
  {
   "cell_type": "code",
   "execution_count": 1,
   "id": "124d1e00-a434-42fb-ab2c-9ababc1c1f87",
   "metadata": {},
   "outputs": [
    {
     "data": {
      "image/png": "[encoded data removed]",
      "text/plain": [
       "<Figure size 640x480 with 1 Axes>"
      ]
     },
     "metadata": {},
     "output_type": "display_data"
    }
   ],
   "source": [
    "from numpy import array\n",
    "import matplotlib.pyplot as plt\n",
    "\n",
    "o, x, y = array([0, 0]), array([3, 2]), array([1, 2])\n",
    "arrows = [(o, x + y, 'b'), (o, x, 'r'), (x, y, 'g'), (o, y,'g'), (y, x, 'r')]\n",
    "for p, v, c in arrows:\n",
    "    plt.quiver(p[0], p[1], v[0], v[1], color=c, units='xy', scale=1)\n",
    "    plt.axis('scaled'), plt.xlim(0, 5), plt.ylim(0, 5)\n",
    "plt.show()"
   ]
  },
  {
   "cell_type": "markdown",
   "id": "bdd31210-7f4f-4426-80ed-1540d9db1da4",
   "metadata": {},
   "source": [
    "Строка 4: Векторы 0 = (0, 0), x = (3, 2) и y = (1, 2) выражаются массивами o, x и y соответственно. Используя массивы для векторов, векторная сумма x + y выражается как x +y, а скалярное кратное 2x - как 2 * x.\n",
    "\n",
    "Строки 5, 6: Список векторов, которые отображаются в виде стрелок. Тройка из начальной точки, вектора и цвета - это параметр, определяющий стрелку.\n",
    "\n",
    "Строки 7-9: Нарисуйте стрелку для каждой тройки (p, v, c) в стрелках списка, используя функцию quiver в Matplotlib. Первые четыре фактических аргумента называются аргументами позиции. Последние три аргумента color, units, scale называются аргументами name, а правые части = являются фактическими дополнениями. Порядок аргументов position важен, но порядок аргументов name не имеет значения. Вы можете изменить порядок, потому что имена передают значения. scale='xy' подразумевает, как задать размер стрелки и задает его с помощью координат x и y. scale=1 - масштаб стрелки, и большее значение уменьшает размер.\n",
    "\n",
    "Программа: `vec3d.py`"
   ]
  },
  {
   "cell_type": "markdown",
   "id": "1914b12d-efe2-4f1d-9ce4-b005b5b2f636",
   "metadata": {},
   "source": [
    "```\n",
    "from vpython import vec, arrow, mag\n",
    "o = vec(0, 0, 0)\n",
    "x, y, z = vec(1, 0, 0), vec(0, 1, 0), vec(0, 0, 1)\n",
    "arrows = [(o, x + y), (x, y + z), (o, x + y + z), (o, x), (y, x),\n",
    " (z, x), (y + z, x), (o, y), (x, y), (z, y), (x + z, y),\n",
    " (o, z), (x, z), (y, z), (x + y, z)]\n",
    "for p, v in arrows:\n",
    "    arrow(pos=p, axis=v, color=v, shaftwidth=mag(v) / 50)\n",
    "```"
   ]
  },
  {
   "cell_type": "markdown",
   "id": "379856e9-9b74-469f-a3a6-f718eceb6dc5",
   "metadata": {},
   "source": [
    "Строки 3, 4: Используя класс vector из VPython, представим векторы 0 = (0, 0, 0), x = (1, 0, 0), y = (0, 1, 0) и z = (0, 0, 1) через o, x, y и z соответственно.\n",
    "\n",
    "Строки 5-7: Список векторов, нарисованных в виде стрелок. Пара начальной точки и вектора - это параметр, определяющий стрелку.\n",
    "\n",
    "Строки 8, 9: Нарисуйте стрелку для каждой пары (p, v) в виде стрелок. Цвет вектора и толщина оси определяются компонентами и длиной вектора."
   ]
  }
 ],
 "metadata": {
  "kernelspec": {
   "display_name": "Python 3 (ipykernel)",
   "language": "python",
   "name": "python3"
  },
  "language_info": {
   "codemirror_mode": {
    "name": "ipython",
    "version": 3
   },
   "file_extension": ".py",
   "mimetype": "text/x-python",
   "name": "python",
   "nbconvert_exporter": "python",
   "pygments_lexer": "ipython3",
   "version": "3.10.12"
  }
 },
 "nbformat": 4,
 "nbformat_minor": 5
}