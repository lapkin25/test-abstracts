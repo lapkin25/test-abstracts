{
 "cells": [
  {
   "cell_type": "markdown",
   "id": "0f3e3eaa-b47d-4a65-bce6-106c99e79af7",
   "metadata": {},
   "source": [
    "# Использование линейной регрессии"
   ]
  },
  {
   "cell_type": "markdown",
   "id": "7fb5e3ba-6640-4993-872c-ce31b2661cd5",
   "metadata": {},
   "source": [
    "На первый взгляд результаты использования моделей линейной регрессии, могут показаться сложными. Однако понимание такого типа данных является важным этапом на пути к созданию более сложных моделей. Внизу приведен простой пример, в котором по шагам объясняется вывод. Мы будем использовать Python для изучения показателей соответствия линейной регрессии, таких как коэффициент детерминации (R2), проверка гипотез (F, T, Omnibus) и другие показатели."
   ]
  },
  {
   "cell_type": "markdown",
   "id": "feb3dac3-29bc-4733-973b-3679271dd529",
   "metadata": {},
   "source": [
    "Пример: Табак и алкоголь в Великобритании"
   ]
  },
  {
   "cell_type": "markdown",
   "id": "56bdcf49-841a-4997-a57a-99af37802808",
   "metadata": {},
   "source": [
    "Давайте начнем с использования небольшого набора данных из библиотеки DECAL, который исследует корреляцию между покупками табака и алкоголя в различных регионах Соединенного Королевства. Мы будем анализировать данные с помощью двух инструментов для расчета линейной регрессии: модулей statsmodels и sklearn. Мы также воспользуемся библиотеками pandas для работы с данными и matplotlib для создания графиков. Давай импортируем нужные модули, загрузим данные в Python и изучим их внимательно."
   ]
  },
  {
   "cell_type": "code",
   "execution_count": 17,
   "id": "8473199d-ef05-4b30-a4b9-0c8675babeba",
   "metadata": {},
   "outputs": [
    {
     "data": {
      "image/png": "[encoded data removed]",
      "text/plain": [
       "<Figure size 640x480 with 1 Axes>"
      ]
     },
     "metadata": {},
     "output_type": "display_data"
    }
   ],
   "source": [
    "In [1]: import numpy as np\n",
    "...: import pandas as pd\n",
    "...: import matplotlib as mpl\n",
    "...: import matplotlib.pyplot as plt\n",
    "...: import statsmodels.formula.api as sm\n",
    "...: from sklearn.linear_model import LinearRegression\n",
    "...: from scipy import stats\n",
    "...:\n",
    "In [2]: data_str = '''Region Alcohol Tobacco\n",
    "...: North 6.47 4.03\n",
    "...: Yorkshire 6.13 3.76\n",
    "...: Northeast 6.19 3.77\n",
    "...: East_Midlands 4.89 3.34\n",
    "...: West_Midlands 5.63 3.47\n",
    "...: East_Anglia 4.52 2.92\n",
    "...: Southeast 5.89 3.20\n",
    "...: Southwest 4.79 2.71\n",
    "...: Wales 5.27 3.53\n",
    "...: Scotland 6.08 4.51\n",
    "...: Northern_Ireland 4.02 4.56'''\n",
    "...:\n",
    "...: # Read in the data. Note that for Python 2.x,\n",
    "...: # you have to change the \"import\" statement\n",
    "...: from io import StringIO\n",
    "...: df = pd.read_csv(StringIO(data_str), sep=r'\\s+')\n",
    "...:\n",
    "In [3]: # Plot the data\n",
    "...: df.plot('Tobacco', 'Alcohol', style='o')\n",
    "...: plt.ylabel('Alcohol')\n",
    "...: plt.title('Sales in Several UK Regions')\n",
    "...: plt.show()\n",
    "...:\n"
   ]
  },
  {
   "cell_type": "markdown",
   "id": "997f1f00-a9be-4151-9b37-aac86ecf23a7",
   "metadata": {},
   "source": [
    "Соотношение продаж алкоголя и табака в Великобритании. Мы замечаем, что, по-видимому, наблюдается линейная тенденция\n",
    "и один выброс, который соответствует Северной Ирландии."
   ]
  },
  {
   "cell_type": "markdown",
   "id": "37be8c9e-bc36-4046-a563-fd8e69655c39",
   "metadata": {},
   "source": [
    "После этого очень просто настроить модель, оставив на данный момент выброс (который является последней точкой данных) в стороне - "
   ]
  },
  {
   "cell_type": "code",
   "execution_count": 21,
   "id": "8dcad667-6b21-4702-b4be-cd3f21c1eeb6",
   "metadata": {},
   "outputs": [
    {
     "name": "stdout",
     "output_type": "stream",
     "text": [
      "                            OLS Regression Results                            \n",
      "==============================================================================\n",
      "Dep. Variable:                Alcohol   R-squared:                       0.615\n",
      "Model:                            OLS   Adj. R-squared:                  0.567\n",
      "Method:                 Least Squares   F-statistic:                     12.78\n",
      "Date:                Fri, 31 May 2024   Prob (F-statistic):            0.00723\n",
      "Time:                        19:36:22   Log-Likelihood:                -4.9998\n",
      "No. Observations:                  10   AIC:                             14.00\n",
      "Df Residuals:                       8   BIC:                             14.60\n",
      "Df Model:                           1                                         \n",
      "Covariance Type:            nonrobust                                         \n",
      "==============================================================================\n",
      "                 coef    std err          t      P>|t|      [0.025      0.975]\n",
      "------------------------------------------------------------------------------\n",
      "Intercept      2.0412      1.001      2.038      0.076      -0.268       4.350\n",
      "Tobacco        1.0059      0.281      3.576      0.007       0.357       1.655\n",
      "==============================================================================\n",
      "Omnibus:                        2.542   Durbin-Watson:                   1.975\n",
      "Prob(Omnibus):                  0.281   Jarque-Bera (JB):                0.904\n",
      "Skew:                          -0.014   Prob(JB):                        0.636\n",
      "Kurtosis:                       1.527   Cond. No.                         27.2\n",
      "==============================================================================\n",
      "\n",
      "Notes:\n",
      "[1] Standard Errors assume that the covariance matrix of the errors is correctly specified.\n"
     ]
    },
    {
     "name": "stderr",
     "output_type": "stream",
     "text": [
      "E:\\Anaconda\\Lib\\site-packages\\scipy\\stats\\_stats_py.py:1806: UserWarning: kurtosistest only valid for n>=20 ... continuing anyway, n=10\n",
      "  warnings.warn(\"kurtosistest only valid for n>=20 ... continuing \"\n"
     ]
    }
   ],
   "source": [
    "In [4]: result = sm.ols('Alcohol ~ Tobacco', df[:-1]).fit()\n",
    "...: print(result.summary())\n",
    "...: # Примечание: при использовании модуля formula.api из statsmodels автоматически добавляется таблица данных."
   ]
  },
  {
   "cell_type": "markdown",
   "id": "8c070566-2e14-40cc-9499-387337a1d9cb",
   "metadata": {},
   "source": [
    "И вот у нас есть очень хорошая таблица чисел, которая сначала может показаться довольно сложной. Чтобы они означают? Левый столбец первой таблицы в основном сам по себе понятен. Степени свободы (Df) модели — это количество предикторов или объяснительных переменных. Df остатков — это количество наблюдений минус степени свободы модели, минус один (для смещения). Большинство значений, перечисленных в сводке, можно получить через объект результата. Например, значение R2 можно получить с помощью result.rsquared. Если вы используете IPython, вы можете ввести result. и нажать TAB, чтобы увидеть список всех возможных атрибутов для объекта результата.\r\n"
   ]
  },
  {
   "cell_type": "markdown",
   "id": "9423c3ec-8042-44c6-bb43-49d1ff3e1658",
   "metadata": {},
   "source": [
    "## ОПРЕДЕЛЕНИЕ РЕГРЕССИИ С ПЕРЕХВАТОМ"
   ]
  },
  {
   "cell_type": "markdown",
   "id": "bd8f489e-0aa9-4dc5-8005-15b352542bd9",
   "metadata": {},
   "source": [
    "Переменные суммы квадратов SSxx уже были определены, n - количество наблюдений, а k - количество параметров регрессии.\n",
    "Например, если вы вписываете прямую линию, kd 2 вы укажете значения модели, соответствующие заданным параметрам, а yN - среднее значение. В дополнение к этому, следующие переменные - \n",
    "• * DF mod D k 1 - это (скорректированные) степени свободы модели. (“1” означает, что нас интересует только корреляция, а не абсолютное смещение данных.)\n",
    "• * Адрес dnk - это остаточные степени свободы\n",
    "• DFtot dn1 - это (скорректированные) Суммарные степени свободы. Регрессия по горизонтальной линии - это модель с нулевой гипотезой.\n",
    "Для моделей множественной регрессии с перехватом, DF modc - это новый DFtot.\n",
    "• * Mcmod D SSmod=DFmod : среднее значение квадратов модели\n",
    "• * MS res SS res=DF res : среднее значение квадратов остатков. MSres - это несмещенная оценка для 2 для моделей множественной регрессии.\n",
    "• * Umstot D SStot=DFtot : Общее среднее квадратическое значение, которое является выборочной дисперсией y-переменной.\n",
    "y-variable."
   ]
  },
  {
   "cell_type": "markdown",
   "id": "f5ccfa38-1e61-47f3-ac8c-e19796f56628",
   "metadata": {},
   "source": [
    "## ЗНАЧЕНИЯ R^2"
   ]
  },
  {
   "cell_type": "markdown",
   "id": "6cd9159d-5f1e-4db0-aee1-457bd3ed9315",
   "metadata": {},
   "source": [
    "Значение R^2 указывает на долю вариации y-переменной, которая обусловлена вариацией x-переменных. Для простой линейной регрессии значение R^2 равно квадрату выборочной корреляции rxy. Для множественной\n",
    "линейной регрессии с перехватом (которая включает в себя простую линейную регрессию) значение R^2 определяется как-"
   ]
  },
  {
   "cell_type": "markdown",
   "id": "4d97ee24-6b1d-4860-b133-cac006536fd1",
   "metadata": {},
   "source": [
    "![11.png](11.png)"
   ]
  },
  {
   "cell_type": "markdown",
   "id": "ffedfaf1-ff60-4986-be39-3aa96b139a57",
   "metadata": {},
   "source": [
    "## R^2 : СКОРРЕКТИРОВАННОЕ R:2"
   ]
  },
  {
   "cell_type": "markdown",
   "id": "ed2bc977-9396-4022-a904-8ffdfa603942",
   "metadata": {},
   "source": [
    "Для оценки качества моделей многие исследователи предпочитают скорректированное значение R^2, обычно обозначаемое столбиком над значением RN, которое применяется в качестве штрафа за наличие большого количества параметров в модели. Вот логика, лежащая в основе определения RN^2: R^2 определяется как R2D1 SSres=SStot или 1 R^2d SSres=SStot. Чтобы учесть количество параметров регрессии p, определите скорректированное значение R-квадрата как - "
   ]
  },
  {
   "cell_type": "markdown",
   "id": "424ea6eb-6990-4c33-bceb-fc1bd5414db6",
   "metadata": {},
   "source": [
    "![22.png](22.png)"
   ]
  },
  {
   "attachments": {},
   "cell_type": "markdown",
   "id": "3f88676f-a066-4c4f-9319-47d505dc3395",
   "metadata": {},
   "source": [
    "![33.png](33.png)"
   ]
  },
  {
   "cell_type": "markdown",
   "id": "9bd5dc62-4894-4b17-a87f-cee797920281",
   "metadata": {},
   "source": [
    "## F - ТЕСТ"
   ]
  },
  {
   "cell_type": "markdown",
   "id": "a80a4773-a1d0-477e-a75a-0f5b9eda831d",
   "metadata": {},
   "source": [
    "Для модели множественной регрессии с перехватом: "
   ]
  },
  {
   "cell_type": "markdown",
   "id": "a2550a8f-6236-4ab8-82c2-971b1808714d",
   "metadata": {},
   "source": [
    "![44.png](44.png)"
   ]
  },
  {
   "cell_type": "markdown",
   "id": "80d4bce0-e345-4533-8483-842bf9099909",
   "metadata": {},
   "source": [
    "Мы можем протестировать это непосредственно на Python с помощью - "
   ]
  },
  {
   "cell_type": "code",
   "execution_count": 23,
   "id": "e1010d9b-e589-47ce-8cfd-c27e25363449",
   "metadata": {},
   "outputs": [
    {
     "name": "stdout",
     "output_type": "stream",
     "text": [
      "F-statistic: 12.785, p-value: 0.00723\n"
     ]
    }
   ],
   "source": [
    "In [5]: N = result.nobs\n",
    "...: k = result.df_model+1\n",
    "...: dfm, dfe = k-1, N - k\n",
    "...: F = result.mse_model / result.mse_resid\n",
    "...: p = 1.0 - stats.f.cdf(F,dfm,dfe)\n",
    "...: print('F-statistic: {:.3f}, p-value: {:.5f}'\n",
    "...: .format( F, p ))\n",
    "...:"
   ]
  },
  {
   "cell_type": "markdown",
   "id": "e7bcc120-69e6-40f5-bec5-2cbbdd777bd9",
   "metadata": {},
   "source": [
    "Здесь stats.f.cdf(F, m, n) возвращает совокупную сумму F-распределения с параметрами формы m = k-1 = 1 и n=N-k=8, вплоть до F-статистики F.\n",
    "Вычитая эту величину из единицы, мы получаем вероятность в хвосте, которая представляет собой вероятность наблюдения F-статистики, более экстремальной, чем наблюдаемая."
   ]
  },
  {
   "cell_type": "markdown",
   "id": "75d42e16-a3f1-48fa-9c42-9b15336c9ec4",
   "metadata": {},
   "source": [
    "## ЛОГАРИФМИЧЕСКАЯ ФУНКЦИЯ ПРАВДОПОДОПИЯ"
   ]
  },
  {
   "cell_type": "markdown",
   "id": "ec00fce9-14f7-4547-92a6-d03267808e91",
   "metadata": {},
   "source": [
    "В классической линейной регрессионной модели (с нормальными ошибками) мы стремимся максимизировать вероятность наблюдаемых данных при помощи метода максимального правдоподобия. В отличие от метода наименьших квадратов, где модель остаётся постоянной, а ошибки ответа изменчивы, в методе максимального правдоподобия концентрируемся на постоянных значениях ответов и стараемся максимизировать вероятность подобранных моделей.\n",
    "Для классической модели линейной регрессии (с нормальной погрешностью) мы имеем - \r\n"
   ]
  },
  {
   "cell_type": "markdown",
   "id": "9eb9969b-d53f-4269-94db-e6763789d7a5",
   "metadata": {},
   "source": [
    "![55.png](55.png)"
   ]
  },
  {
   "cell_type": "markdown",
   "id": "1724194b-87c0-4e5d-bd87-88eee65eaa84",
   "metadata": {},
   "source": [
    "Функция логарифмического правдоподобия определяется как - "
   ]
  },
  {
   "cell_type": "markdown",
   "id": "e7d26841-e76d-407f-af04-b0bfdeaf3aa7",
   "metadata": {},
   "source": [
    "![66.png](66.png)"
   ]
  },
  {
   "cell_type": "markdown",
   "id": "f3191ef9-43ae-450a-98bd-65a48d2ce730",
   "metadata": {},
   "source": [
    "Мы можем вычислить это в Python следующим образом:"
   ]
  },
  {
   "cell_type": "code",
   "execution_count": 24,
   "id": "2f825be0-2d62-4f99-9601-daf90d0cfe5f",
   "metadata": {},
   "outputs": [
    {
     "name": "stdout",
     "output_type": "stream",
     "text": [
      "ln(L) = -4.999758697385978\n"
     ]
    }
   ],
   "source": [
    "In [6]: N = result.nobs\n",
    "...: SSR = result.ssr\n",
    "...: s2 = SSR / N\n",
    "...: L = (1.0/np.sqrt(2*np.pi*s2)) ** N*np.exp(-SSR/(s2*2.0))\n",
    "...: print('ln(L) =', np.log( L ))\n",
    "...:"
   ]
  },
  {
   "cell_type": "markdown",
   "id": "605bfed8-2c69-4b36-816f-9b06691e6731",
   "metadata": {},
   "source": [
    "##  Примеры\n",
    "\n",
    "Линейная регрессия - это статистический метод, используемый для оценки связи между зависимой переменной (объясняемой) и одной или несколькими независимыми переменными (объясняющими). Целью линейной регрессии является построение линейной модели, которая наилучшим образом описывает отношения между переменными.\n",
    "\n",
    "Формула для простой линейной регрессии (одна независимая переменная):\n",
    "Уравнение линейной регрессии имеет вид: y = β0 + β1x + ε\n",
    "где:\n",
    "- y - зависимая переменная\n",
    "- x - независимая переменная\n",
    "- β0 - коэффициент сдвига (константа)\n",
    "- β1 - коэффициент наклона (угловой коэффициент)\n",
    "- ε - случайная ошибка\n",
    "\n",
    "Формула для множественной линейной регрессии (несколько независимых переменных):\n",
    "Уравнение множественной линейной регрессии имеет вид: y = β0 + β1x1 + β2x2 + ... + βnxn + ε\n",
    "где:\n",
    "- y - зависимая переменная\n",
    "- x1, x2, ..., xn - независимые переменные\n",
    "- β0 - коэффициент сдвига (константа)\n",
    "- β1, β2, ..., βn - коэффициенты наклона для каждого независимого переменной\n",
    "- ε - случайная ошибка\n",
    "\n",
    "Цель обучения модели линейной регрессии заключается в подборе значений коэффициентов, чтобы минимизировать сумму квадратов ошибок между прогнозами модели и реальными значениями."
   ]
  },
  {
   "cell_type": "code",
   "execution_count": 1,
   "id": "5914e223-bd92-479f-a030-1e4b37192e7e",
   "metadata": {},
   "outputs": [
    {
     "data": {
      "image/png": "[encoded data removed]",
      "text/plain": [
       "<Figure size 640x480 with 1 Axes>"
      ]
     },
     "metadata": {},
     "output_type": "display_data"
    }
   ],
   "source": [
    "import numpy as np\n",
    "import matplotlib.pyplot as plt\n",
    "from sklearn.linear_model import LinearRegression\n",
    "\n",
    "# Генерируем случайные данные для примера\n",
    "np.random.seed(0)\n",
    "X = 2 * np.random.rand(100, 1)\n",
    "y = 3 + 4 * X + np.random.randn(100, 1)\n",
    "\n",
    "# Обучаем модель линейной регрессии\n",
    "model = LinearRegression()\n",
    "model.fit(X, y)\n",
    "\n",
    "# Предсказываем значения y на основе обученной модели\n",
    "y_pred = model.predict(X)\n",
    "\n",
    "# Строим график и отображаем исходные данные и линейную регрессию\n",
    "plt.scatter(X, y, color='blue')\n",
    "plt.plot(X, y_pred, color='red')\n",
    "plt.xlabel('X')\n",
    "plt.ylabel('y')\n",
    "plt.title('Линейная регрессия')\n",
    "plt.show()"
   ]
  },
  {
   "cell_type": "markdown",
   "id": "04d970a3-ecb9-4b6d-9b1b-db21ad83e2f5",
   "metadata": {},
   "source": [
    "<iframe src=\"https://trinket.io/embed/python3/be32898321?outputOnly=true\" width=\"100%\" height=\"356\" frameborder=\"0\" marginwidth=\"0\" marginheight=\"0\" allowfullscreen></iframe>"
   ]
  }
 ],
 "metadata": {
  "kernelspec": {
   "display_name": "Python 3 (ipykernel)",
   "language": "python",
   "name": "python3"
  },
  "language_info": {
   "codemirror_mode": {
    "name": "ipython",
    "version": 3
   },
   "file_extension": ".py",
   "mimetype": "text/x-python",
   "name": "python",
   "nbconvert_exporter": "python",
   "pygments_lexer": "ipython3",
   "version": "3.10.12"
  }
 },
 "nbformat": 4,
 "nbformat_minor": 5
}
